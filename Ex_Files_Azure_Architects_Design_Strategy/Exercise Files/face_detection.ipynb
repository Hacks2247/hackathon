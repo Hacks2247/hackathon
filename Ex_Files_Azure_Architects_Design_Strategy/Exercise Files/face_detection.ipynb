{
  "nbformat": 4,
  "nbformat_minor": 0,
  "metadata": {
    "colab": {
      "name": "face_detection.ipynb",
      "provenance": [],
      "collapsed_sections": []
    },
    "kernelspec": {
      "name": "python3",
      "display_name": "Python 3"
    }
  },
  "cells": [
    {
      "cell_type": "markdown",
      "metadata": {
        "id": "K9oDyf8tbSXQ",
        "colab_type": "text"
      },
      "source": [
        "# Face Detection"
      ]
    },
    {
      "cell_type": "code",
      "metadata": {
        "id": "Ffmwpww7X_Op",
        "colab_type": "code",
        "colab": {}
      },
      "source": [
        "!pip install google-cloud-vision"
      ],
      "execution_count": 0,
      "outputs": []
    },
    {
      "cell_type": "code",
      "metadata": {
        "id": "pTm0GmI4YU1V",
        "colab_type": "code",
        "colab": {}
      },
      "source": [
        "from google.colab import files\n",
        "files.upload()"
      ],
      "execution_count": 0,
      "outputs": []
    },
    {
      "cell_type": "code",
      "metadata": {
        "id": "u0P4gr_NYzxj",
        "colab_type": "code",
        "colab": {}
      },
      "source": [
        "!ls"
      ],
      "execution_count": 0,
      "outputs": []
    },
    {
      "cell_type": "code",
      "metadata": {
        "id": "JcAUZKfMB1YF",
        "colab_type": "code",
        "colab": {}
      },
      "source": [
        "path = r'face.jpg'"
      ],
      "execution_count": 0,
      "outputs": []
    },
    {
      "cell_type": "code",
      "metadata": {
        "id": "mt2pDnaaYDHM",
        "colab_type": "code",
        "colab": {}
      },
      "source": [
        "import os, io\n",
        "from google.cloud import vision\n",
        "from google.cloud.vision import types\n",
        "\n",
        "os.environ['GOOGLE_APPLICATION_CREDENTIALS'] = r'service-account.json'\n",
        "\n",
        "def starter(path):\n",
        "\n",
        "    client = vision.ImageAnnotatorClient()\n",
        " \n",
        "    if path.startswith('http') or path.startswith('gs:'):\n",
        "        image = types.Image()\n",
        "        image.source.image_uri = path\n",
        "    else:\n",
        "        with io.open(path, 'rb') as image_file:\n",
        "            content = image_file.read()\n",
        "        image = types.Image(content=content)\n",
        " \n",
        "    result = client.face_detection(image=image).face_annotations\n",
        " \n",
        "    return result\n"
      ],
      "execution_count": 0,
      "outputs": []
    },
    {
      "cell_type": "code",
      "metadata": {
        "id": "fv5UlZqCZ40m",
        "colab_type": "code",
        "colab": {}
      },
      "source": [
        "face = starter(path)\n",
        "face"
      ],
      "execution_count": 0,
      "outputs": []
    },
    {
      "cell_type": "markdown",
      "metadata": {
        "id": "LK43Is19-nI7",
        "colab_type": "text"
      },
      "source": [
        "## Face expressions"
      ]
    },
    {
      "cell_type": "code",
      "metadata": {
        "id": "Y6tIz1q9fnn1",
        "colab_type": "code",
        "colab": {}
      },
      "source": [
        "# Names of likelihood from google.cloud.vision.enums\n",
        "    likelihood_name = ('UNKNOWN', 'VERY_UNLIKELY', 'UNLIKELY', 'POSSIBLE',\n",
        "                       'LIKELY', 'VERY_LIKELY')"
      ],
      "execution_count": 0,
      "outputs": []
    },
    {
      "cell_type": "code",
      "metadata": {
        "id": "FZVflSuPbgmt",
        "colab_type": "code",
        "colab": {}
      },
      "source": [
        "for f in face:\n",
        "  print('Joy : {}'.format(likelihood_name[f.joy_likelihood]))\n",
        "  print('Sorrow : {}'.format(likelihood_name[f.sorrow_likelihood]))\n",
        "  print('Anger : {}'.format(likelihood_name[f.anger_likelihood]))\n",
        "  print('Surprise : {}'.format(likelihood_name[f.surprise_likelihood]))\n"
      ],
      "execution_count": 0,
      "outputs": []
    },
    {
      "cell_type": "markdown",
      "metadata": {
        "id": "-AKNDlbG-8tL",
        "colab_type": "text"
      },
      "source": [
        "## Co-ordinates for face"
      ]
    },
    {
      "cell_type": "code",
      "metadata": {
        "id": "yiNxf9-lYZy8",
        "colab_type": "code",
        "colab": {}
      },
      "source": [
        "from PIL import Image, ImageDraw\n"
      ],
      "execution_count": 0,
      "outputs": []
    },
    {
      "cell_type": "code",
      "metadata": {
        "id": "qkA8cNTDh1Gz",
        "colab_type": "code",
        "colab": {}
      },
      "source": [
        "def helper_box(image, faces, output_filename):\n",
        "    \"\"\"Draws a polygon around the faces, then saves to output_filename.\n",
        "\n",
        "    Args:\n",
        "      image: a file containing the image with the faces.\n",
        "      faces: a list of faces found in the file. This should be in the format\n",
        "          returned by the Vision API.\n",
        "      output_filename: the name of the image file to be created, where the\n",
        "          faces have polygons drawn around them.\n",
        "    \"\"\"\n",
        "    im = Image.open(image)\n",
        "    draw = ImageDraw.Draw(im)\n",
        "    # Sepecify the font-family and the font-size\n",
        "    for face in faces:\n",
        "        box = [(vertex.x, vertex.y)\n",
        "               for vertex in face.bounding_poly.vertices]\n",
        "        draw.line(box + [box[0]], width=5, fill='#00ff00')\n",
        "        # Place the confidence value/score of the detected faces above the\n",
        "        # detection box in the output image\n",
        "        draw.text(((face.bounding_poly.vertices)[0].x,\n",
        "                   (face.bounding_poly.vertices)[0].y - 30),\n",
        "                  str(format(face.detection_confidence, '.3f')) + '%',\n",
        "                  fill='#FF0000')\n",
        "    im.save(output_filename)"
      ],
      "execution_count": 0,
      "outputs": []
    },
    {
      "cell_type": "code",
      "metadata": {
        "id": "1xGMQ_SqbjTq",
        "colab_type": "code",
        "colab": {}
      },
      "source": [
        ""
      ],
      "execution_count": 0,
      "outputs": []
    },
    {
      "cell_type": "code",
      "metadata": {
        "id": "4V-XGlwybjQu",
        "colab_type": "code",
        "colab": {}
      },
      "source": [
        ""
      ],
      "execution_count": 0,
      "outputs": []
    },
    {
      "cell_type": "code",
      "metadata": {
        "id": "1kG6-i1IbjOT",
        "colab_type": "code",
        "colab": {}
      },
      "source": [
        ""
      ],
      "execution_count": 0,
      "outputs": []
    },
    {
      "cell_type": "code",
      "metadata": {
        "id": "3fSCORdSbjLm",
        "colab_type": "code",
        "colab": {}
      },
      "source": [
        ""
      ],
      "execution_count": 0,
      "outputs": []
    },
    {
      "cell_type": "code",
      "metadata": {
        "id": "zK74_u-fbjIr",
        "colab_type": "code",
        "colab": {}
      },
      "source": [
        ""
      ],
      "execution_count": 0,
      "outputs": []
    },
    {
      "cell_type": "code",
      "metadata": {
        "id": "dLr6gaXtbjGS",
        "colab_type": "code",
        "colab": {}
      },
      "source": [
        ""
      ],
      "execution_count": 0,
      "outputs": []
    },
    {
      "cell_type": "code",
      "metadata": {
        "id": "pke9FOorbjD3",
        "colab_type": "code",
        "colab": {}
      },
      "source": [
        ""
      ],
      "execution_count": 0,
      "outputs": []
    },
    {
      "cell_type": "code",
      "metadata": {
        "id": "AY0sRx7Rbi-f",
        "colab_type": "code",
        "colab": {}
      },
      "source": [
        ""
      ],
      "execution_count": 0,
      "outputs": []
    },
    {
      "cell_type": "code",
      "metadata": {
        "id": "_H6tUTm6iv8j",
        "colab_type": "code",
        "colab": {}
      },
      "source": [
        ""
      ],
      "execution_count": 0,
      "outputs": []
    }
  ]
}