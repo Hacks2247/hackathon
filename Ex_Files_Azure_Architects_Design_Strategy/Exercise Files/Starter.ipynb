{
 "cells": [
  {
   "cell_type": "code",
   "execution_count": 0,
   "metadata": {
    "colab": {},
    "colab_type": "code",
    "id": "Ffmwpww7X_Op"
   },
   "outputs": [],
   "source": [
    "!pip install google-cloud-vision"
   ]
  },
  {
   "cell_type": "code",
   "execution_count": 0,
   "metadata": {
    "colab": {},
    "colab_type": "code",
    "id": "pTm0GmI4YU1V"
   },
   "outputs": [],
   "source": [
    "from google.colab import files\n",
    "files.upload()"
   ]
  },
  {
   "cell_type": "code",
   "execution_count": 0,
   "metadata": {
    "colab": {},
    "colab_type": "code",
    "id": "u0P4gr_NYzxj"
   },
   "outputs": [],
   "source": [
    "!ls"
   ]
  },
  {
   "cell_type": "code",
   "execution_count": 0,
   "metadata": {
    "colab": {},
    "colab_type": "code",
    "id": "JcAUZKfMB1YF"
   },
   "outputs": [],
   "source": [
    "path = r'starter.jpg'"
   ]
  },
  {
   "cell_type": "code",
   "execution_count": 0,
   "metadata": {
    "colab": {},
    "colab_type": "code",
    "id": "mt2pDnaaYDHM"
   },
   "outputs": [],
   "source": [
    "import os, io\n",
    "from google.cloud import vision\n",
    "from google.cloud.vision import types\n",
    "\n",
    "os.environ['GOOGLE_APPLICATION_CREDENTIALS'] = r'service-account.json'\n",
    "\n",
    "def starter(path):\n",
    "\n",
    "    client = vision.ImageAnnotatorClient()\n",
    " \n",
    "    if path.startswith('http') or path.startswith('gs:'):\n",
    "        image = types.Image()\n",
    "        image.source.image_uri = path\n",
    "    else:\n",
    "        with io.open(path, 'rb') as image_file:\n",
    "            content = image_file.read()\n",
    "        image = types.Image(content=content)\n",
    " \n",
    "    result = client.text_detection(image=image).text_annotations\n",
    " \n",
    "    return result\n",
    "\n",
    "def get_text(texts):\n",
    "\n",
    "    for text in texts:\n",
    "        print(text)\n",
    "\n",
    "def get_description(texts):\n",
    "\n",
    "  if not texts:\n",
    "    print('No text was found.')\n",
    "  else:\n",
    "    for text in texts:\n",
    "      print(text.description)\n",
    "        \n",
    "texts = starter(path)\n",
    "#texts\n",
    "get_description(texts)\n",
    "#get_text(texts)   "
   ]
  },
  {
   "cell_type": "code",
   "execution_count": 0,
   "metadata": {
    "colab": {},
    "colab_type": "code",
    "id": "fv5UlZqCZ40m"
   },
   "outputs": [],
   "source": []
  },
  {
   "cell_type": "code",
   "execution_count": 0,
   "metadata": {
    "colab": {},
    "colab_type": "code",
    "id": "FZVflSuPbgmt"
   },
   "outputs": [],
   "source": []
  },
  {
   "cell_type": "code",
   "execution_count": 0,
   "metadata": {
    "colab": {},
    "colab_type": "code",
    "id": "_SKr1KeObpah"
   },
   "outputs": [],
   "source": []
  }
 ],
 "metadata": {
  "colab": {
   "collapsed_sections": [],
   "name": "Starter.ipynb",
   "provenance": []
  },
  "kernelspec": {
   "display_name": "Python 3",
   "language": "python",
   "name": "python3"
  },
  "language_info": {
   "codemirror_mode": {
    "name": "ipython",
    "version": 3
   },
   "file_extension": ".py",
   "mimetype": "text/x-python",
   "name": "python",
   "nbconvert_exporter": "python",
   "pygments_lexer": "ipython3",
   "version": "3.7.4"
  }
 },
 "nbformat": 4,
 "nbformat_minor": 1
}
