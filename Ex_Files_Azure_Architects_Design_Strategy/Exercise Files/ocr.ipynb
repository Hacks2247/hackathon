{
  "nbformat": 4,
  "nbformat_minor": 0,
  "metadata": {
    "colab": {
      "name": "ocr.ipynb",
      "provenance": [],
      "collapsed_sections": []
    },
    "kernelspec": {
      "name": "python3",
      "display_name": "Python 3"
    }
  },
  "cells": [
    {
      "cell_type": "markdown",
      "metadata": {
        "id": "JM3DE5Zh5kuC",
        "colab_type": "text"
      },
      "source": [
        "#OCR"
      ]
    },
    {
      "cell_type": "code",
      "metadata": {
        "id": "Ffmwpww7X_Op",
        "colab_type": "code",
        "colab": {}
      },
      "source": [
        "!pip install google-cloud-vision"
      ],
      "execution_count": 0,
      "outputs": []
    },
    {
      "cell_type": "code",
      "metadata": {
        "id": "pTm0GmI4YU1V",
        "colab_type": "code",
        "colab": {}
      },
      "source": [
        "from google.colab import files\n",
        "files.upload()"
      ],
      "execution_count": 0,
      "outputs": []
    },
    {
      "cell_type": "code",
      "metadata": {
        "id": "u0P4gr_NYzxj",
        "colab_type": "code",
        "outputId": "b2a9e491-23b7-4b2c-b2e4-29996aafcb31",
        "colab": {
          "base_uri": "https://localhost:8080/",
          "height": 34
        }
      },
      "source": [
        "!ls"
      ],
      "execution_count": 0,
      "outputs": [
        {
          "output_type": "stream",
          "text": [
            "sample_data  service-account.json  starter.jpg\n"
          ],
          "name": "stdout"
        }
      ]
    },
    {
      "cell_type": "code",
      "metadata": {
        "id": "JcAUZKfMB1YF",
        "colab_type": "code",
        "colab": {}
      },
      "source": [
        "path = r'starter.jpg'"
      ],
      "execution_count": 0,
      "outputs": []
    },
    {
      "cell_type": "code",
      "metadata": {
        "id": "mt2pDnaaYDHM",
        "colab_type": "code",
        "colab": {}
      },
      "source": [
        "import os, io\n",
        "from google.cloud import vision\n",
        "from google.cloud.vision import types\n",
        "\n",
        "os.environ['GOOGLE_APPLICATION_CREDENTIALS'] = r'service-account.json'\n",
        "\n",
        "def starter(path):\n",
        "\n",
        "    client = vision.ImageAnnotatorClient()\n",
        " \n",
        "    if path.startswith('http') or path.startswith('gs:'):\n",
        "        image = types.Image()\n",
        "        image.source.image_uri = path\n",
        "    else:\n",
        "        with io.open(path, 'rb') as image_file:\n",
        "            content = image_file.read()\n",
        "        image = types.Image(content=content)\n",
        " \n",
        "    result = client.text_detection(image=image).text_annotations\n",
        " \n",
        "    return result"
      ],
      "execution_count": 0,
      "outputs": []
    },
    {
      "cell_type": "code",
      "metadata": {
        "id": "FZVflSuPbgmt",
        "colab_type": "code",
        "colab": {}
      },
      "source": [
        ""
      ],
      "execution_count": 0,
      "outputs": []
    },
    {
      "cell_type": "code",
      "metadata": {
        "id": "_SKr1KeObpah",
        "colab_type": "code",
        "colab": {}
      },
      "source": [
        ""
      ],
      "execution_count": 0,
      "outputs": []
    }
  ]
}