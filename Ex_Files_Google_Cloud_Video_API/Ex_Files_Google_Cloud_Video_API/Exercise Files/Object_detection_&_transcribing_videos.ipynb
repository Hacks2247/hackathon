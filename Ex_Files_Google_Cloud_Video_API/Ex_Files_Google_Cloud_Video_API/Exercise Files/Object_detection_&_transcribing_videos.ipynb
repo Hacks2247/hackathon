{
  "nbformat": 4,
  "nbformat_minor": 0,
  "metadata": {
    "colab": {
      "name": "Object_detection_&_transcribing_videos.ipynb",
      "provenance": [],
      "collapsed_sections": [
        "ktSd6RSV3o5d",
        "WoqzD9NWaroy"
      ]
    },
    "kernelspec": {
      "display_name": "Python 3",
      "language": "python",
      "name": "python3"
    },
    "language_info": {
      "codemirror_mode": {
        "name": "ipython",
        "version": 3
      },
      "file_extension": ".py",
      "mimetype": "text/x-python",
      "name": "python",
      "nbconvert_exporter": "python",
      "pygments_lexer": "ipython3",
      "version": "3.7.4"
    }
  },
  "cells": [
    {
      "cell_type": "code",
      "metadata": {
        "colab_type": "code",
        "id": "8vrJtXv7TUiv",
        "colab": {}
      },
      "source": [
        "!pip install --upgrade google-cloud-videointelligence"
      ],
      "execution_count": 0,
      "outputs": []
    },
    {
      "cell_type": "code",
      "metadata": {
        "colab_type": "code",
        "id": "NppprDcnTUiy",
        "colab": {}
      },
      "source": [
        "from google.colab import files\n",
        "files.upload()"
      ],
      "execution_count": 0,
      "outputs": []
    },
    {
      "cell_type": "code",
      "metadata": {
        "colab_type": "code",
        "id": "KAHZ9sDvTUi1",
        "colab": {}
      },
      "source": [
        "!ls"
      ],
      "execution_count": 0,
      "outputs": []
    },
    {
      "cell_type": "code",
      "metadata": {
        "id": "Lc8HI_PpDYoo",
        "colab_type": "code",
        "colab": {}
      },
      "source": [
        "from google.cloud import videointelligence\n",
        "import os, io\n",
        "\n",
        "os.environ['GOOGLE_APPLICATION_CREDENTIALS'] = r'service-account-video.json'"
      ],
      "execution_count": 0,
      "outputs": []
    },
    {
      "cell_type": "code",
      "metadata": {
        "colab_type": "code",
        "id": "MFGakfdmTUi3",
        "colab": {}
      },
      "source": [
        "path = r'gs://cloudmleap/video/next/JaneGoodall.mp4'"
      ],
      "execution_count": 0,
      "outputs": []
    },
    {
      "cell_type": "markdown",
      "metadata": {
        "id": "ktSd6RSV3o5d",
        "colab_type": "text"
      },
      "source": [
        "# Challenge : Tracking objects"
      ]
    },
    {
      "cell_type": "code",
      "metadata": {
        "id": "Ta71NLidOFKk",
        "colab_type": "code",
        "colab": {}
      },
      "source": [
        "def starter(path):\n",
        "\n",
        "    video_client = videointelligence.VideoIntelligenceServiceClient()\n",
        "    # Determine the correct feature to use\n",
        "    features = [videointelligence.enums.Feature ...]\n",
        "    \n",
        "    if path.startswith('gs:'):\n",
        "        operation = video_client.annotate_video(input_uri=path, features=features)     \n",
        "    else:\n",
        "      with io.open(path, 'rb') as video_file:\n",
        "          input_content = video_file.read()\n",
        "      operation = video_client.annotate_video(features=features, input_content=input_content)\n",
        "    \n",
        "    print('\\nProcessing video for object annotations.')\n",
        "\n",
        "    result = operation.result(timeout=300)\n",
        "    print('\\nFinished processing.\\n')\n",
        " \n",
        "    return result  \n",
        "\n"
      ],
      "execution_count": 0,
      "outputs": []
    },
    {
      "cell_type": "code",
      "metadata": {
        "id": "bWdhw8g4QK55",
        "colab_type": "code",
        "colab": {}
      },
      "source": [
        "result = starter(path)\n",
        "result"
      ],
      "execution_count": 0,
      "outputs": []
    },
    {
      "cell_type": "code",
      "metadata": {
        "id": "Jrd05TU-QK29",
        "colab_type": "code",
        "colab": {}
      },
      "source": [
        "# Determine how to parse the output from the API so it can be used below\n",
        "object_annotations = ..."
      ],
      "execution_count": 0,
      "outputs": []
    },
    {
      "cell_type": "code",
      "metadata": {
        "id": "enNXZEJaQK0m",
        "colab_type": "code",
        "colab": {}
      },
      "source": [
        ""
      ],
      "execution_count": 0,
      "outputs": []
    },
    {
      "cell_type": "code",
      "metadata": {
        "id": "Agf46y4sOSTT",
        "colab_type": "code",
        "colab": {}
      },
      "source": [
        "for object_annotation in object_annotations:\n",
        "    print('Entity description: {}'.format(\n",
        "        object_annotation.entity.description))\n",
        "    if object_annotation.entity.entity_id:\n",
        "        print('Entity id: {}'.format(object_annotation.entity.entity_id))\n",
        "\n",
        "    print('Segment: {}s to {}s'.format(\n",
        "        object_annotation.segment.start_time_offset.seconds +\n",
        "        object_annotation.segment.start_time_offset.nanos / 1e9,\n",
        "        object_annotation.segment.end_time_offset.seconds +\n",
        "        object_annotation.segment.end_time_offset.nanos / 1e9))\n",
        "\n",
        "    print('Confidence: {}'.format(object_annotation.confidence))\n",
        "\n",
        "    # Print only bounding box of the first frame in the segment\n",
        "    frame = object_annotation.frames[0]\n",
        "    box = frame.normalized_bounding_box\n",
        "    print('Time offset of the first frame: {}s'.format(\n",
        "        frame.time_offset.seconds + frame.time_offset.nanos / 1e9))\n",
        "    print('Bounding box position:')\n",
        "    print('\\tleft  : {}'.format(box.left))\n",
        "    print('\\ttop   : {}'.format(box.top))\n",
        "    print('\\tright : {}'.format(box.right))\n",
        "    print('\\tbottom: {}'.format(box.bottom))\n",
        "    print('\\n')"
      ],
      "execution_count": 0,
      "outputs": []
    },
    {
      "cell_type": "code",
      "metadata": {
        "id": "zh6nxmrKQfEi",
        "colab_type": "code",
        "colab": {}
      },
      "source": [
        ""
      ],
      "execution_count": 0,
      "outputs": []
    },
    {
      "cell_type": "code",
      "metadata": {
        "id": "B2uuSiBLQfP_",
        "colab_type": "code",
        "colab": {}
      },
      "source": [
        ""
      ],
      "execution_count": 0,
      "outputs": []
    },
    {
      "cell_type": "code",
      "metadata": {
        "id": "thsXKBadQfOU",
        "colab_type": "code",
        "colab": {}
      },
      "source": [
        ""
      ],
      "execution_count": 0,
      "outputs": []
    },
    {
      "cell_type": "code",
      "metadata": {
        "id": "sYWBADz9QfL8",
        "colab_type": "code",
        "colab": {}
      },
      "source": [
        ""
      ],
      "execution_count": 0,
      "outputs": []
    },
    {
      "cell_type": "code",
      "metadata": {
        "id": "6fZ3MNnaQfJv",
        "colab_type": "code",
        "colab": {}
      },
      "source": [
        ""
      ],
      "execution_count": 0,
      "outputs": []
    },
    {
      "cell_type": "code",
      "metadata": {
        "id": "6gdGVjDaQfHU",
        "colab_type": "code",
        "colab": {}
      },
      "source": [
        ""
      ],
      "execution_count": 0,
      "outputs": []
    },
    {
      "cell_type": "markdown",
      "metadata": {
        "id": "WoqzD9NWaroy",
        "colab_type": "text"
      },
      "source": [
        "# Challenge : Transcribing videos"
      ]
    },
    {
      "cell_type": "code",
      "metadata": {
        "id": "kY9cF-_JtmYU",
        "colab_type": "code",
        "colab": {}
      },
      "source": [
        "from google.cloud import videointelligence\n",
        "from google.cloud.videointelligence import types\n",
        "import os, io\n",
        "\n",
        "os.environ['GOOGLE_APPLICATION_CREDENTIALS'] = r'service-account-video.json'\n",
        "\n",
        "def starter(path):\n",
        "\n",
        "    video_client = videointelligence.VideoIntelligenceServiceClient()\n",
        "    # Determine the correct feature to use\n",
        "    features = [videointelligence.enums.Feature ...]\n",
        " \n",
        "    if path.startswith('gs:'):\n",
        "      config = videointelligence.types.SpeechTranscriptionConfig(language_code='en-US',enable_automatic_punctuation=True)\n",
        "      context = videointelligence.types.VideoContext(speech_transcription_config=config)\n",
        "      operation = video_client.annotate_video(path, features=features, video_context=context)\n",
        "        \n",
        "    else:\n",
        "      with io.open(path, 'rb') as video_file:\n",
        "          input_content = video_file.read()\n",
        "      config = videointelligence.types.SpeechTranscriptionConfig(language_code='en-US',enable_automatic_punctuation=True)\n",
        "      context = videointelligence.types.VideoContext(speech_transcription_config=config)\n",
        "      operation = video_client.annotate_video(features=features, input_content=input_content, video_context=context)\n",
        "    \n",
        "    print('\\nProcessing video for speech transcription:')\n",
        "    result = operation.result(timeout=600)\n",
        "    print('\\nProcessing complete.\\n')\n",
        " \n",
        "    return result  "
      ],
      "execution_count": 0,
      "outputs": []
    },
    {
      "cell_type": "code",
      "metadata": {
        "id": "yjOfdvD-QqRn",
        "colab_type": "code",
        "colab": {}
      },
      "source": [
        ""
      ],
      "execution_count": 0,
      "outputs": []
    },
    {
      "cell_type": "code",
      "metadata": {
        "id": "RtupoyOEQqM0",
        "colab_type": "code",
        "colab": {}
      },
      "source": [
        ""
      ],
      "execution_count": 0,
      "outputs": []
    },
    {
      "cell_type": "code",
      "metadata": {
        "id": "mY_xkSs_QqLq",
        "colab_type": "code",
        "colab": {}
      },
      "source": [
        ""
      ],
      "execution_count": 0,
      "outputs": []
    },
    {
      "cell_type": "code",
      "metadata": {
        "id": "2ici4S6BQqIj",
        "colab_type": "code",
        "colab": {}
      },
      "source": [
        ""
      ],
      "execution_count": 0,
      "outputs": []
    },
    {
      "cell_type": "code",
      "metadata": {
        "id": "Nf9xqXIRQqFx",
        "colab_type": "code",
        "colab": {}
      },
      "source": [
        ""
      ],
      "execution_count": 0,
      "outputs": []
    },
    {
      "cell_type": "code",
      "metadata": {
        "id": "H0EGha9UuKAQ",
        "colab_type": "code",
        "colab": {}
      },
      "source": [
        ""
      ],
      "execution_count": 0,
      "outputs": []
    }
  ]
}