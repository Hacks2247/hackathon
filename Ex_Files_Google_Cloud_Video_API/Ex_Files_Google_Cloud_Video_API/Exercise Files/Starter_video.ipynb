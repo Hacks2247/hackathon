{
  "nbformat": 4,
  "nbformat_minor": 0,
  "metadata": {
    "colab": {
      "name": "Starter_video.ipynb",
      "provenance": [],
      "collapsed_sections": []
    },
    "kernelspec": {
      "display_name": "Python 3",
      "language": "python",
      "name": "python3"
    },
    "language_info": {
      "codemirror_mode": {
        "name": "ipython",
        "version": 3
      },
      "file_extension": ".py",
      "mimetype": "text/x-python",
      "name": "python",
      "nbconvert_exporter": "python",
      "pygments_lexer": "ipython3",
      "version": "3.7.4"
    }
  },
  "cells": [
    {
      "cell_type": "markdown",
      "metadata": {
        "id": "BDmv_pV0TXkt",
        "colab_type": "text"
      },
      "source": [
        "# Starter video\n"
      ]
    },
    {
      "cell_type": "markdown",
      "metadata": {
        "id": "gaHV4Kb2Xo0L",
        "colab_type": "text"
      },
      "source": [
        "## Testing the setup"
      ]
    },
    {
      "cell_type": "code",
      "metadata": {
        "colab_type": "code",
        "id": "8vrJtXv7TUiv",
        "colab": {}
      },
      "source": [
        "!pip install --upgrade google-cloud-videointelligence"
      ],
      "execution_count": 0,
      "outputs": []
    },
    {
      "cell_type": "code",
      "metadata": {
        "colab_type": "code",
        "id": "NppprDcnTUiy",
        "colab": {}
      },
      "source": [
        "from google.colab import files\n",
        "files.upload()"
      ],
      "execution_count": 0,
      "outputs": []
    },
    {
      "cell_type": "code",
      "metadata": {
        "colab_type": "code",
        "id": "KAHZ9sDvTUi1",
        "colab": {}
      },
      "source": [
        "!ls"
      ],
      "execution_count": 0,
      "outputs": []
    },
    {
      "cell_type": "code",
      "metadata": {
        "colab_type": "code",
        "id": "MFGakfdmTUi3",
        "colab": {}
      },
      "source": [
        "path = r'starter.mp4'"
      ],
      "execution_count": 0,
      "outputs": []
    },
    {
      "cell_type": "code",
      "metadata": {
        "colab_type": "code",
        "id": "1ozp2b57TUi5",
        "colab": {}
      },
      "source": [
        "from google.cloud import videointelligence\n",
        "from google.cloud.videointelligence import types\n",
        "import os, io\n",
        "\n",
        "os.environ['GOOGLE_APPLICATION_CREDENTIALS'] = r'service-account-video.json'\n",
        "\n",
        "def starter(path):\n",
        "\n",
        "    video_client = videointelligence.VideoIntelligenceServiceClient()\n",
        "    features = [videointelligence.enums.Feature.LABEL_DETECTION]\n",
        " \n",
        "    if path.startswith('gs:'):\n",
        "      mode = videointelligence.enums.LabelDetectionMode.SHOT_AND_FRAME_MODE\n",
        "      config = videointelligence.types.LabelDetectionConfig(label_detection_mode=mode)\n",
        "      context = videointelligence.types.VideoContext(label_detection_config=config)\n",
        "      operation = video_client.annotate_video(path, features=features, video_context=context)\n",
        "        \n",
        "    else:\n",
        "      with io.open(path, 'rb') as video_file:\n",
        "          input_content = video_file.read()\n",
        "      operation = video_client.annotate_video(features=features, input_content=input_content)\n",
        "    \n",
        "    print('\\nProcessing video for label annotations:')\n",
        "    result = operation.result(timeout=180)\n",
        "    print('\\nProcessing complete.\\n')\n",
        " \n",
        "    return result   "
      ],
      "execution_count": 0,
      "outputs": []
    },
    {
      "cell_type": "code",
      "metadata": {
        "id": "fzAeKkTEn21W",
        "colab_type": "code",
        "colab": {}
      },
      "source": [
        ""
      ],
      "execution_count": 0,
      "outputs": []
    },
    {
      "cell_type": "code",
      "metadata": {
        "colab_type": "code",
        "id": "YpZykC64TUi7",
        "colab": {}
      },
      "source": [
        ""
      ],
      "execution_count": 0,
      "outputs": []
    },
    {
      "cell_type": "markdown",
      "metadata": {
        "id": "waOOpWqaTu5u",
        "colab_type": "text"
      },
      "source": [
        "## Video segments, shots and frames"
      ]
    },
    {
      "cell_type": "code",
      "metadata": {
        "colab_type": "code",
        "id": "08FOYVTicvyN",
        "colab": {}
      },
      "source": [
        "from google.cloud import videointelligence\n",
        "from google.cloud.videointelligence import types\n",
        "import os, io\n",
        "\n",
        "os.environ['GOOGLE_APPLICATION_CREDENTIALS'] = r'service-account-video.json'\n",
        "\n",
        "def starter(path):\n",
        "\n",
        "    video_client = videointelligence.VideoIntelligenceServiceClient()\n",
        "    features = [videointelligence.enums.Feature.LABEL_DETECTION]\n",
        " \n",
        "    if path.startswith('gs:'):\n",
        "      mode = videointelligence.enums.LabelDetectionMode.SHOT_AND_FRAME_MODE\n",
        "      config = videointelligence.types.LabelDetectionConfig(label_detection_mode=mode)\n",
        "      context = videointelligence.types.VideoContext(label_detection_config=config)\n",
        "      operation = video_client.annotate_video(path, features=features, video_context=context)\n",
        "        \n",
        "    else:\n",
        "      with io.open(path, 'rb') as video_file:\n",
        "          input_content = video_file.read()\n",
        "      operation = video_client.annotate_video(features=features, input_content=input_content)\n",
        "    \n",
        "    print('\\nProcessing video for label annotations:')\n",
        "    result = operation.result(timeout=180)\n",
        "    print('\\nProcessing complete.\\n')\n",
        " \n",
        "    return result   "
      ],
      "execution_count": 0,
      "outputs": []
    },
    {
      "cell_type": "markdown",
      "metadata": {
        "id": "Dn-1sAUp3A5b",
        "colab_type": "text"
      },
      "source": [
        "## Segment level label annotations\n"
      ]
    },
    {
      "cell_type": "code",
      "metadata": {
        "id": "t3Jx7rvsqdyq",
        "colab_type": "code",
        "colab": {}
      },
      "source": [
        "path = 'path to video on google storage'\n",
        "path = r'gs://cloudmleap/video/next/JaneGoodall.mp4'"
      ],
      "execution_count": 0,
      "outputs": []
    },
    {
      "cell_type": "code",
      "metadata": {
        "id": "8h6naeGwivZ6",
        "colab_type": "code",
        "colab": {}
      },
      "source": [
        ""
      ],
      "execution_count": 0,
      "outputs": []
    },
    {
      "cell_type": "code",
      "metadata": {
        "colab_type": "code",
        "id": "fWw0szI5czRW",
        "colab": {}
      },
      "source": [
        "from google.cloud import videointelligence\n",
        "from google.cloud.videointelligence import types\n",
        "import os, io\n",
        "\n",
        "os.environ['GOOGLE_APPLICATION_CREDENTIALS'] = r'service-account-video.json'\n",
        "\n",
        "def starter(path):\n",
        "\n",
        "    video_client = videointelligence.VideoIntelligenceServiceClient()\n",
        "    features = [videointelligence.enums.Feature.LABEL_DETECTION]\n",
        " \n",
        "    if path.startswith('gs:'):\n",
        "      mode = videointelligence.enums.LabelDetectionMode.SHOT_AND_FRAME_MODE\n",
        "      config = videointelligence.types.LabelDetectionConfig(label_detection_mode=mode)\n",
        "      context = videointelligence.types.VideoContext(label_detection_config=config)\n",
        "      operation = video_client.annotate_video(path, features=features, video_context=context)\n",
        "        \n",
        "    else:\n",
        "      with io.open(path, 'rb') as video_file:\n",
        "          input_content = video_file.read()\n",
        "      operation = video_client.annotate_video(features=features, input_content=input_content)\n",
        "    \n",
        "    print('\\nProcessing video for label annotations:')\n",
        "    result = operation.result(timeout=180)\n",
        "    print('\\nProcessing complete.\\n')\n",
        " \n",
        "    return result   "
      ],
      "execution_count": 0,
      "outputs": []
    },
    {
      "cell_type": "code",
      "metadata": {
        "id": "mFJix1FQpipq",
        "colab_type": "code",
        "colab": {}
      },
      "source": [
        ""
      ],
      "execution_count": 0,
      "outputs": []
    },
    {
      "cell_type": "code",
      "metadata": {
        "id": "hro15yXspimu",
        "colab_type": "code",
        "colab": {}
      },
      "source": [
        ""
      ],
      "execution_count": 0,
      "outputs": []
    },
    {
      "cell_type": "markdown",
      "metadata": {
        "id": "a982dk3v3SXT",
        "colab_type": "text"
      },
      "source": [
        "## Shot level label annotations"
      ]
    },
    {
      "cell_type": "code",
      "metadata": {
        "id": "AK7oFpzSO0Eh",
        "colab_type": "code",
        "colab": {}
      },
      "source": [
        ""
      ],
      "execution_count": 0,
      "outputs": []
    },
    {
      "cell_type": "code",
      "metadata": {
        "id": "VdyWrDTyOz5C",
        "colab_type": "code",
        "colab": {}
      },
      "source": [
        ""
      ],
      "execution_count": 0,
      "outputs": []
    },
    {
      "cell_type": "code",
      "metadata": {
        "id": "XXbdxHtnWMKx",
        "colab_type": "code",
        "colab": {}
      },
      "source": [
        "def get_shots(shot_labels):\n",
        "  for shot_label in shot_labels:\n",
        "    print('Shot label description : {}'.format(shot_label.entity.description))\n",
        "    for category_entity in shot_label.category_entities:\n",
        "      print('Label category description : {}'.format(category_entity.description))\n",
        "    \n"
      ],
      "execution_count": 0,
      "outputs": []
    },
    {
      "cell_type": "code",
      "metadata": {
        "id": "BSUMDXVWWMCY",
        "colab_type": "code",
        "colab": {}
      },
      "source": [
        ""
      ],
      "execution_count": 0,
      "outputs": []
    },
    {
      "cell_type": "code",
      "metadata": {
        "id": "xgu-5SqQO0xY",
        "colab_type": "code",
        "colab": {}
      },
      "source": [
        ""
      ],
      "execution_count": 0,
      "outputs": []
    },
    {
      "cell_type": "markdown",
      "metadata": {
        "id": "F1kbJTX6IPgW",
        "colab_type": "text"
      },
      "source": [
        "## Frame level label annotation"
      ]
    },
    {
      "cell_type": "code",
      "metadata": {
        "id": "XBC3-RuDd2Ff",
        "colab_type": "code",
        "colab": {}
      },
      "source": [
        "# Process frame level label annotations\n",
        "frame_labels = "
      ],
      "execution_count": 0,
      "outputs": []
    },
    {
      "cell_type": "code",
      "metadata": {
        "id": "6k-57N2uGNY-",
        "colab_type": "code",
        "colab": {}
      },
      "source": [
        "for i, frame_label in enumerate(frame_labels):\n",
        "    print('Frame label description: {}'.format(\n",
        "        frame_label.entity.description))\n",
        "    for category_entity in frame_label.category_entities:\n",
        "        print('\\tLabel category description: {}'.format(\n",
        "            category_entity.description))\n",
        "      \n",
        "\n"
      ],
      "execution_count": 0,
      "outputs": []
    },
    {
      "cell_type": "code",
      "metadata": {
        "id": "Jglqwb9AHPSc",
        "colab_type": "code",
        "colab": {}
      },
      "source": [
        "def get_frames(frame_labels):\n",
        "  for i, frame_label in enumerate(frame_labels):\n",
        "      print('Frame label description: {}'.format(\n",
        "          frame_label.entity.description))\n",
        "      for category_entity in frame_label.category_entities:\n",
        "          print('\\tLabel category description: {}'.format(\n",
        "              category_entity.description))\n",
        "\n",
        "      # Each frame_label_annotation has many frames,\n",
        "      # here we print information only about the first frame.\n",
        "      frame = frame_label.frames[0]\n",
        "      time_offset = (frame.time_offset.seconds +\n",
        "                    frame.time_offset.nanos / 1e9)\n",
        "      print('\\tFirst frame time offset: {}s'.format(time_offset))\n"
      ],
      "execution_count": 0,
      "outputs": []
    },
    {
      "cell_type": "code",
      "metadata": {
        "id": "oLgjN8lBdKrZ",
        "colab_type": "code",
        "colab": {}
      },
      "source": [
        ""
      ],
      "execution_count": 0,
      "outputs": []
    },
    {
      "cell_type": "code",
      "metadata": {
        "id": "euVpHHPSfjYO",
        "colab_type": "code",
        "colab": {}
      },
      "source": [
        ""
      ],
      "execution_count": 0,
      "outputs": []
    }
  ]
}